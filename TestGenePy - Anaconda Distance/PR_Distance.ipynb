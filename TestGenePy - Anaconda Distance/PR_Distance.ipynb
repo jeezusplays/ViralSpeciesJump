{
 "cells": [
  {
   "cell_type": "code",
   "execution_count": 14,
   "metadata": {},
   "outputs": [],
   "source": [
    "import pandas as pd\n",
    "pd.options.mode.chained_assignment = None #default= warn\n",
    "import numpy as np\n",
    "import hashlib\n",
    "\n",
    "original_df = pd.read_csv('PR_Data.csv') #import dataset"
   ]
  },
  {
   "cell_type": "code",
   "execution_count": 15,
   "metadata": {},
   "outputs": [
    {
     "data": {
      "text/html": [
       "<div>\n",
       "<style scoped>\n",
       "    .dataframe tbody tr th:only-of-type {\n",
       "        vertical-align: middle;\n",
       "    }\n",
       "\n",
       "    .dataframe tbody tr th {\n",
       "        vertical-align: top;\n",
       "    }\n",
       "\n",
       "    .dataframe thead th {\n",
       "        text-align: right;\n",
       "    }\n",
       "</style>\n",
       "<table border=\"1\" class=\"dataframe\">\n",
       "  <thead>\n",
       "    <tr style=\"text-align: right;\">\n",
       "      <th></th>\n",
       "      <th>end</th>\n",
       "    </tr>\n",
       "  </thead>\n",
       "  <tbody>\n",
       "    <tr>\n",
       "      <th>0</th>\n",
       "      <td>CCTCAGATCACTCTTTGGCAACGACCCATCGTCACAATAAAGATAG...</td>\n",
       "    </tr>\n",
       "    <tr>\n",
       "      <th>1</th>\n",
       "      <td>CCTCAGATCACTCTTTGGCAACGACCCCTCGTCACAATAAAGATAG...</td>\n",
       "    </tr>\n",
       "    <tr>\n",
       "      <th>2</th>\n",
       "      <td>CCCCTTGTCACAATAAAGATAGGAGGGCAACTGAAGGAAGCTCTAT...</td>\n",
       "    </tr>\n",
       "    <tr>\n",
       "      <th>3</th>\n",
       "      <td>CCCCTCGTCACAATAAAGATAGGGGGGCAGCTAAAGGAAGCTCTAT...</td>\n",
       "    </tr>\n",
       "    <tr>\n",
       "      <th>4</th>\n",
       "      <td>CCCCTCGTCACAATAAAGATAGGGGGGCAGCTAAAGGAAGCTCTAT...</td>\n",
       "    </tr>\n",
       "  </tbody>\n",
       "</table>\n",
       "</div>"
      ],
      "text/plain": [
       "                                                 end\n",
       "0  CCTCAGATCACTCTTTGGCAACGACCCATCGTCACAATAAAGATAG...\n",
       "1  CCTCAGATCACTCTTTGGCAACGACCCCTCGTCACAATAAAGATAG...\n",
       "2  CCCCTTGTCACAATAAAGATAGGAGGGCAACTGAAGGAAGCTCTAT...\n",
       "3  CCCCTCGTCACAATAAAGATAGGGGGGCAGCTAAAGGAAGCTCTAT...\n",
       "4  CCCCTCGTCACAATAAAGATAGGGGGGCAGCTAAAGGAAGCTCTAT..."
      ]
     },
     "execution_count": 15,
     "metadata": {},
     "output_type": "execute_result"
    }
   ],
   "source": [
    "original_df.drop(['RefID', 'PtID', 'IsolateName', 'Region', 'Year', 'Subtype', 'PIList', 'AccessionID', 'P1', 'P2', 'P3', 'P4', 'P5', 'P6', 'P7', 'P8', 'P9', 'P10', 'P11','P12', 'P13', 'P14', \n",
    "        'P15', 'P16', 'P17', 'P18', 'P19', 'P20', 'P21', 'P22','P23', 'P24', 'P25', 'P26', 'P27', 'P28', 'P29', 'P30', 'P31', 'P32', 'P33','P34', 'P35', 'P36', 'P37', 'P38', \n",
    "        'P39', 'P40', 'P41', 'P42', 'P43', 'P44','P45', 'P46', 'P47', 'P48', 'P49', 'P50', 'P51', 'P52', 'P53', 'P54', 'P55','P56', 'P57', 'P58', 'P59', 'P60', 'P61', 'P62', \n",
    "        'P63', 'P64', 'P65', 'P66' ,'P67', 'P68', 'P69', 'P70', 'P71', 'P72', 'P73', 'P74', 'P75', 'P76', 'P77','P78', 'P79', 'P80', 'P81', 'P82', 'P83', 'P84', 'P85', 'P86', \n",
    "        'P87', 'P88','P89', 'P90', 'P91', 'P92', 'P93', 'P94', 'P95', 'P96', 'P97', 'P98', 'P99'], axis=1, inplace=True)\n",
    "\n",
    "#left 'NASeq' as only column\n",
    "original_df.columns = ['end'] #change 'NASeq' to 'end'\n",
    "original_df.head()"
   ]
  },
  {
   "cell_type": "code",
   "execution_count": 16,
   "metadata": {},
   "outputs": [
    {
     "data": {
      "text/plain": [
       "(24940, 1)"
      ]
     },
     "execution_count": 16,
     "metadata": {},
     "output_type": "execute_result"
    }
   ],
   "source": [
    "original_df.drop_duplicates(subset='end') #drop duplicate rows in 'end' column\n",
    "#start = protease no mutation sequence\n",
    "start = original_df[original_df['end'] == 'CCTCAGGTCACTCTTTGGCAACGACCCCTCGTCACAATAAAGATAGGGGGGCAACTAAAGGAAGCTCTATTAGATACAGGAGCAGATGATACAGTATTAGAAGAAATGAGTTTGCCAGGAAGATGGAAACCAAAAATGATAGGGGGAATTGGAGGTTTTATCAAAGTAAGACAGTATGATCAGATACTCATAGAAATCTGTGGACATAAAGCTATAGGTACAGTATTAGTAGGACCTACACCTGTCAACATAATTGGAAGAAATCTGTTGACTCAGATTGGTTGCACTTTAAATTTT' ].index\n",
    " \n",
    "#delete these row exact to 'start' from df\n",
    "original_df.drop(start , inplace=True)\n",
    "original_df.shape #print shape of new df"
   ]
  },
  {
   "cell_type": "code",
   "execution_count": 17,
   "metadata": {},
   "outputs": [
    {
     "data": {
      "text/html": [
       "<div>\n",
       "<style scoped>\n",
       "    .dataframe tbody tr th:only-of-type {\n",
       "        vertical-align: middle;\n",
       "    }\n",
       "\n",
       "    .dataframe tbody tr th {\n",
       "        vertical-align: top;\n",
       "    }\n",
       "\n",
       "    .dataframe thead th {\n",
       "        text-align: right;\n",
       "    }\n",
       "</style>\n",
       "<table border=\"1\" class=\"dataframe\">\n",
       "  <thead>\n",
       "    <tr style=\"text-align: right;\">\n",
       "      <th></th>\n",
       "      <th>end</th>\n",
       "    </tr>\n",
       "  </thead>\n",
       "  <tbody>\n",
       "    <tr>\n",
       "      <th>0</th>\n",
       "      <td>CCTCAGATCACTCTTTGGCAACGACCCATCGTCACAATAAAGATAG...</td>\n",
       "    </tr>\n",
       "    <tr>\n",
       "      <th>1</th>\n",
       "      <td>CCTCAGATCACTCTTTGGCAACGACCCCTCGTCACAATAAAGATAG...</td>\n",
       "    </tr>\n",
       "    <tr>\n",
       "      <th>126</th>\n",
       "      <td>CCTCAAATCACTCTTTGGCAACGACCCCTCGTCACAATAAAGATAG...</td>\n",
       "    </tr>\n",
       "    <tr>\n",
       "      <th>127</th>\n",
       "      <td>CCTCAGATCACTCTTTGGCAGCGACCCCTCGTCTCAATAAAGATAG...</td>\n",
       "    </tr>\n",
       "    <tr>\n",
       "      <th>128</th>\n",
       "      <td>CCTCAAATCACTCTTTGGCAACGACCCCTCGTCACAATAAAGATAG...</td>\n",
       "    </tr>\n",
       "  </tbody>\n",
       "</table>\n",
       "</div>"
      ],
      "text/plain": [
       "                                                   end\n",
       "0    CCTCAGATCACTCTTTGGCAACGACCCATCGTCACAATAAAGATAG...\n",
       "1    CCTCAGATCACTCTTTGGCAACGACCCCTCGTCACAATAAAGATAG...\n",
       "126  CCTCAAATCACTCTTTGGCAACGACCCCTCGTCACAATAAAGATAG...\n",
       "127  CCTCAGATCACTCTTTGGCAGCGACCCCTCGTCTCAATAAAGATAG...\n",
       "128  CCTCAAATCACTCTTTGGCAACGACCCCTCGTCACAATAAAGATAG..."
      ]
     },
     "execution_count": 17,
     "metadata": {},
     "output_type": "execute_result"
    }
   ],
   "source": [
    "#remove rows where sequences are not 297 string length\n",
    "original_df['end'] = original_df['end'].astype('str')\n",
    "mask = (original_df['end'].str.len() == 297) #df = df.drop(df[str.len(df.end) < 297].index)\n",
    "original_df = original_df.loc[mask] #df.drop(df[mask].index)\n",
    "\n",
    "original_df.head()"
   ]
  },
  {
   "cell_type": "code",
   "execution_count": 18,
   "metadata": {},
   "outputs": [],
   "source": [
    "# Make edited dataframe as df to save it to a csv_file\n",
    "original_df = pd.DataFrame(original_df)\n",
    "original_df.to_csv('PR_Sequences.csv')"
   ]
  },
  {
   "cell_type": "code",
   "execution_count": 19,
   "metadata": {},
   "outputs": [
    {
     "data": {
      "text/plain": [
       "(20467, 2)"
      ]
     },
     "execution_count": 19,
     "metadata": {},
     "output_type": "execute_result"
    }
   ],
   "source": [
    "df = pd.read_csv('PR_Sequences.csv') #import new dataset\n",
    "df.shape #new shape of df with string length of 297"
   ]
  },
  {
   "cell_type": "code",
   "execution_count": 20,
   "metadata": {},
   "outputs": [
    {
     "name": "stdout",
     "output_type": "stream",
     "text": [
      "Unnamed: 0\n",
      "end\n"
     ]
    }
   ],
   "source": [
    "#check name of other column \n",
    "for col in df.columns: \n",
    "    print(col) "
   ]
  },
  {
   "cell_type": "code",
   "execution_count": 21,
   "metadata": {},
   "outputs": [],
   "source": [
    "#delete extra column\n",
    "del df['Unnamed: 0']"
   ]
  },
  {
   "cell_type": "code",
   "execution_count": 22,
   "metadata": {},
   "outputs": [],
   "source": [
    "df_test = df.copy() #copy 'df' dataset\n",
    "#df_test = df_test.head(5000) "
   ]
  },
  {
   "cell_type": "code",
   "execution_count": 23,
   "metadata": {},
   "outputs": [],
   "source": [
    "#insert a column where all rows are protease start sequence\n",
    "df_test['start'] = 'CCTCAGGTCACTCTTTGGCAACGACCCCTCGTCACAATAAAGATAGGGGGGCAACTAAAGGAAGCTCTATTAGATACAGGAGCAGATGATACAGTATTAGAAGAAATGAGTTTGCCAGGAAGATGGAAACCAAAAATGATAGGGGGAATTGGAGGTTTTATCAAAGTAAGACAGTATGATCAGATACTCATAGAAATCTGTGGACATAAAGCTATAGGTACAGTATTAGTAGGACCTACACCTGTCAACATAATTGGAAGAAATCTGTTGACTCAGATTGGTTGCACTTTAAATTTT'\n",
    "df_test.insert(1, \"hamming\", \"\") #insert column 1 named hamming with no values\n",
    "df_test.insert(2, \"levenshtein\", \"\") #insert column 2 named levenshtein with no values\n",
    "\n",
    "df_test = df_test[['start', 'end', 'hamming', 'levenshtein']] #rearrange dataframe for better visualization\n",
    "#df_test.head()"
   ]
  },
  {
   "cell_type": "code",
   "execution_count": 24,
   "metadata": {},
   "outputs": [],
   "source": [
    "#hamming\n",
    "count = 0\n",
    "row = df_test.shape[0]\n",
    "\n",
    "for i in range(0, row): #for all i in all rows of df\n",
    "    \n",
    "    row_num = count\n",
    "    start = df_test.iloc[row_num, 0]\n",
    "    end = df_test.iloc[row_num, 1]\n",
    "    hamming = df_test.iloc[row_num, 2]\n",
    "    \n",
    "    def hamming(start, end):\n",
    "        return sum(start != end for start, end in zip(start, end))\n",
    "\n",
    "    if __name__==\"__main__\":    \n",
    "        start = hashlib.md5(\"start\".encode()).hexdigest()\n",
    "        end = hashlib.md5(\"end\".encode()).hexdigest()\n",
    "\n",
    "        start = df_test.iloc[row_num, 0]\n",
    "        end = df_test.iloc[row_num, 1]\n",
    "\n",
    "        assert len(start) == len(end)\n",
    "        \n",
    "        df_test.at[i, 'hamming'] = (hamming(start, end))\n",
    "        \n",
    "    count += 1\n",
    "    \n",
    "#print(train)"
   ]
  },
  {
   "cell_type": "code",
   "execution_count": 25,
   "metadata": {},
   "outputs": [
    {
     "data": {
      "text/html": [
       "<div>\n",
       "<style scoped>\n",
       "    .dataframe tbody tr th:only-of-type {\n",
       "        vertical-align: middle;\n",
       "    }\n",
       "\n",
       "    .dataframe tbody tr th {\n",
       "        vertical-align: top;\n",
       "    }\n",
       "\n",
       "    .dataframe thead th {\n",
       "        text-align: right;\n",
       "    }\n",
       "</style>\n",
       "<table border=\"1\" class=\"dataframe\">\n",
       "  <thead>\n",
       "    <tr style=\"text-align: right;\">\n",
       "      <th></th>\n",
       "      <th>start</th>\n",
       "      <th>end</th>\n",
       "      <th>hamming</th>\n",
       "      <th>levenshtein</th>\n",
       "    </tr>\n",
       "  </thead>\n",
       "  <tbody>\n",
       "    <tr>\n",
       "      <th>0</th>\n",
       "      <td>CCTCAGGTCACTCTTTGGCAACGACCCCTCGTCACAATAAAGATAG...</td>\n",
       "      <td>CCTCAGATCACTCTTTGGCAACGACCCATCGTCACAATAAAGATAG...</td>\n",
       "      <td>10</td>\n",
       "      <td></td>\n",
       "    </tr>\n",
       "    <tr>\n",
       "      <th>1</th>\n",
       "      <td>CCTCAGGTCACTCTTTGGCAACGACCCCTCGTCACAATAAAGATAG...</td>\n",
       "      <td>CCTCAGATCACTCTTTGGCAACGACCCCTCGTCACAATAAAGATAG...</td>\n",
       "      <td>8</td>\n",
       "      <td></td>\n",
       "    </tr>\n",
       "    <tr>\n",
       "      <th>2</th>\n",
       "      <td>CCTCAGGTCACTCTTTGGCAACGACCCCTCGTCACAATAAAGATAG...</td>\n",
       "      <td>CCTCAAATCACTCTTTGGCAACGACCCCTCGTCACAATAAAGATAG...</td>\n",
       "      <td>17</td>\n",
       "      <td></td>\n",
       "    </tr>\n",
       "    <tr>\n",
       "      <th>3</th>\n",
       "      <td>CCTCAGGTCACTCTTTGGCAACGACCCCTCGTCACAATAAAGATAG...</td>\n",
       "      <td>CCTCAGATCACTCTTTGGCAGCGACCCCTCGTCTCAATAAAGATAG...</td>\n",
       "      <td>16</td>\n",
       "      <td></td>\n",
       "    </tr>\n",
       "    <tr>\n",
       "      <th>4</th>\n",
       "      <td>CCTCAGGTCACTCTTTGGCAACGACCCCTCGTCACAATAAAGATAG...</td>\n",
       "      <td>CCTCAAATCACTCTTTGGCAACGACCCCTCGTCACAATAAAGATAG...</td>\n",
       "      <td>14</td>\n",
       "      <td></td>\n",
       "    </tr>\n",
       "  </tbody>\n",
       "</table>\n",
       "</div>"
      ],
      "text/plain": [
       "                                               start  \\\n",
       "0  CCTCAGGTCACTCTTTGGCAACGACCCCTCGTCACAATAAAGATAG...   \n",
       "1  CCTCAGGTCACTCTTTGGCAACGACCCCTCGTCACAATAAAGATAG...   \n",
       "2  CCTCAGGTCACTCTTTGGCAACGACCCCTCGTCACAATAAAGATAG...   \n",
       "3  CCTCAGGTCACTCTTTGGCAACGACCCCTCGTCACAATAAAGATAG...   \n",
       "4  CCTCAGGTCACTCTTTGGCAACGACCCCTCGTCACAATAAAGATAG...   \n",
       "\n",
       "                                                 end hamming levenshtein  \n",
       "0  CCTCAGATCACTCTTTGGCAACGACCCATCGTCACAATAAAGATAG...      10              \n",
       "1  CCTCAGATCACTCTTTGGCAACGACCCCTCGTCACAATAAAGATAG...       8              \n",
       "2  CCTCAAATCACTCTTTGGCAACGACCCCTCGTCACAATAAAGATAG...      17              \n",
       "3  CCTCAGATCACTCTTTGGCAGCGACCCCTCGTCTCAATAAAGATAG...      16              \n",
       "4  CCTCAAATCACTCTTTGGCAACGACCCCTCGTCACAATAAAGATAG...      14              "
      ]
     },
     "execution_count": 25,
     "metadata": {},
     "output_type": "execute_result"
    }
   ],
   "source": [
    "df_test.head()"
   ]
  },
  {
   "cell_type": "code",
   "execution_count": 26,
   "metadata": {},
   "outputs": [
    {
     "data": {
      "text/html": [
       "<div>\n",
       "<style scoped>\n",
       "    .dataframe tbody tr th:only-of-type {\n",
       "        vertical-align: middle;\n",
       "    }\n",
       "\n",
       "    .dataframe tbody tr th {\n",
       "        vertical-align: top;\n",
       "    }\n",
       "\n",
       "    .dataframe thead th {\n",
       "        text-align: right;\n",
       "    }\n",
       "</style>\n",
       "<table border=\"1\" class=\"dataframe\">\n",
       "  <thead>\n",
       "    <tr style=\"text-align: right;\">\n",
       "      <th></th>\n",
       "      <th>start</th>\n",
       "      <th>end</th>\n",
       "      <th>hamming</th>\n",
       "      <th>levenshtein</th>\n",
       "    </tr>\n",
       "  </thead>\n",
       "  <tbody>\n",
       "    <tr>\n",
       "      <th>0</th>\n",
       "      <td>CCTCAGGTCACTCTTTGGCAACGACCCCTCGTCACAATAAAGATAG...</td>\n",
       "      <td>CCTCAGATCACTCTTTGGCAACGACCCATCGTCACAATAAAGATAG...</td>\n",
       "      <td>10</td>\n",
       "      <td>10</td>\n",
       "    </tr>\n",
       "    <tr>\n",
       "      <th>1</th>\n",
       "      <td>CCTCAGGTCACTCTTTGGCAACGACCCCTCGTCACAATAAAGATAG...</td>\n",
       "      <td>CCTCAGATCACTCTTTGGCAACGACCCCTCGTCACAATAAAGATAG...</td>\n",
       "      <td>8</td>\n",
       "      <td>8</td>\n",
       "    </tr>\n",
       "    <tr>\n",
       "      <th>2</th>\n",
       "      <td>CCTCAGGTCACTCTTTGGCAACGACCCCTCGTCACAATAAAGATAG...</td>\n",
       "      <td>CCTCAAATCACTCTTTGGCAACGACCCCTCGTCACAATAAAGATAG...</td>\n",
       "      <td>17</td>\n",
       "      <td>17</td>\n",
       "    </tr>\n",
       "    <tr>\n",
       "      <th>3</th>\n",
       "      <td>CCTCAGGTCACTCTTTGGCAACGACCCCTCGTCACAATAAAGATAG...</td>\n",
       "      <td>CCTCAGATCACTCTTTGGCAGCGACCCCTCGTCTCAATAAAGATAG...</td>\n",
       "      <td>16</td>\n",
       "      <td>16</td>\n",
       "    </tr>\n",
       "    <tr>\n",
       "      <th>4</th>\n",
       "      <td>CCTCAGGTCACTCTTTGGCAACGACCCCTCGTCACAATAAAGATAG...</td>\n",
       "      <td>CCTCAAATCACTCTTTGGCAACGACCCCTCGTCACAATAAAGATAG...</td>\n",
       "      <td>14</td>\n",
       "      <td>14</td>\n",
       "    </tr>\n",
       "  </tbody>\n",
       "</table>\n",
       "</div>"
      ],
      "text/plain": [
       "                                               start  \\\n",
       "0  CCTCAGGTCACTCTTTGGCAACGACCCCTCGTCACAATAAAGATAG...   \n",
       "1  CCTCAGGTCACTCTTTGGCAACGACCCCTCGTCACAATAAAGATAG...   \n",
       "2  CCTCAGGTCACTCTTTGGCAACGACCCCTCGTCACAATAAAGATAG...   \n",
       "3  CCTCAGGTCACTCTTTGGCAACGACCCCTCGTCACAATAAAGATAG...   \n",
       "4  CCTCAGGTCACTCTTTGGCAACGACCCCTCGTCACAATAAAGATAG...   \n",
       "\n",
       "                                                 end hamming levenshtein  \n",
       "0  CCTCAGATCACTCTTTGGCAACGACCCATCGTCACAATAAAGATAG...      10          10  \n",
       "1  CCTCAGATCACTCTTTGGCAACGACCCCTCGTCACAATAAAGATAG...       8           8  \n",
       "2  CCTCAAATCACTCTTTGGCAACGACCCCTCGTCACAATAAAGATAG...      17          17  \n",
       "3  CCTCAGATCACTCTTTGGCAGCGACCCCTCGTCTCAATAAAGATAG...      16          16  \n",
       "4  CCTCAAATCACTCTTTGGCAACGACCCCTCGTCACAATAAAGATAG...      14          14  "
      ]
     },
     "execution_count": 26,
     "metadata": {},
     "output_type": "execute_result"
    }
   ],
   "source": [
    "#iterative levenshtein\n",
    "count = 0\n",
    "row = df_test.shape[0]\n",
    "\n",
    "for i in range(0, row):\n",
    "    \n",
    "    row_num = count\n",
    "    start = df_test.iloc[row_num, 0]\n",
    "    end = df_test.iloc[row_num, 1]\n",
    "    levenshtein = df_test.iloc[row_num, 3]\n",
    "\n",
    "    def levenshtein(start, end, costs=(1, 1, 1)):\n",
    "\n",
    "        rows = len(start)+1\n",
    "        cols = len(end)+1\n",
    "        deletes, inserts, substitutes = costs\n",
    "    \n",
    "        dist = [[0 for x in range(cols)] for x in range(rows)]\n",
    "        \n",
    "        for col in range(1, cols):\n",
    "            dist[0][col] = col * inserts\n",
    "            for row in range(0, rows):\n",
    "                if start[row-1] == end[col-1]:\n",
    "                    cost = 0\n",
    "                else:\n",
    "                    cost = substitutes\n",
    "                dist[row][col] = min(dist[row-1][col] + deletes,\n",
    "                                     dist[row][col-1] + inserts,\n",
    "                                     dist[row-1][col-1] + cost) # substitution\n",
    "    \n",
    "        return dist[row][col]\n",
    "\n",
    "    df_test.at[i, 'levenshtein'] = (levenshtein(start, end))\n",
    "    count += 1\n",
    "    \n",
    "df_test.head()"
   ]
  },
  {
   "cell_type": "code",
   "execution_count": 27,
   "metadata": {},
   "outputs": [],
   "source": [
    "#save new df into a csv file\n",
    "df_test = pd.DataFrame(df_test)\n",
    "df_test.to_csv('PR_Test.csv')"
   ]
  }
 ],
 "metadata": {
  "kernelspec": {
   "display_name": "Python 3",
   "language": "python",
   "name": "python3"
  },
  "language_info": {
   "codemirror_mode": {
    "name": "ipython",
    "version": 3
   },
   "file_extension": ".py",
   "mimetype": "text/x-python",
   "name": "python",
   "nbconvert_exporter": "python",
   "pygments_lexer": "ipython3",
   "version": "3.7.3"
  }
 },
 "nbformat": 4,
 "nbformat_minor": 4
}
